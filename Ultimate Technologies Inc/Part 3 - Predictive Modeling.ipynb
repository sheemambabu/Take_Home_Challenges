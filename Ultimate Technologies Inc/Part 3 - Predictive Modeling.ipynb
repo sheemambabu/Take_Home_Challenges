{
 "cells": [
  {
   "cell_type": "markdown",
   "metadata": {},
   "source": [
    "## Part 3 ‑ Predictive modeling\n",
    "\n",
    "Ultimate is interested in predicting rider retention. To help explore this question, we have provided a sample dataset of a cohort of users who signed up for an Ultimate account in January 2014. The data was pulled several months later; we consider a user retained if they were “active” (i.e. took a trip) in the preceding 30 days.\n",
    "\n",
    "We would like you to use this data set to help understand what factors are the best predictors for retention, and offer suggestions to operationalize those insights to help Ultimate. The data is in the attached file ultimate_data_challenge.json. See below for a detailed description of the dataset. Please include any code you wrote for the analysis and delete the dataset when you have finished with the challenge.\n",
    "\n",
    "1. Perform any cleaning, exploratory analysis, and/or visualizations to use the provided data for this analysis (a few sentences/plots describing your approach will suffice). What fraction of the observed users were retained?\n",
    "\n",
    "2. Build a predictive model to help Ultimate determine whether or not a user will be active in their 6th month on the system. Discuss why you chose your approach, what alternatives you considered, and any concerns you have. How valid is your model? Include any key indicators of model performance.\n",
    "\n",
    "3. Briefly discuss how Ultimate might leverage the insights gained from the model to improve its long-term rider retention (again, a few sentences will suffice).\n"
   ]
  },
  {
   "cell_type": "code",
   "execution_count": 1,
   "metadata": {},
   "outputs": [],
   "source": [
    "# import pandas\n",
    "import pandas as pd\n",
    "import numpy as np\n",
    "from datetime import datetime, timedelta\n",
    "import matplotlib.pyplot as plt\n",
    "%matplotlib inline\n",
    "import seaborn as sns\n",
    "import warnings\n",
    "warnings.filterwarnings(\"ignore\")"
   ]
  },
  {
   "cell_type": "code",
   "execution_count": 2,
   "metadata": {},
   "outputs": [],
   "source": [
    "# import or load the json file and convert it to pandas dataframe\n",
    "import json\n",
    "with open('ultimate_data_challenge.json') as f:\n",
    "    data = json.load(f)\n",
    "df = pd.DataFrame(data)"
   ]
  },
  {
   "cell_type": "code",
   "execution_count": 3,
   "metadata": {},
   "outputs": [
    {
     "data": {
      "text/html": [
       "<div>\n",
       "<style scoped>\n",
       "    .dataframe tbody tr th:only-of-type {\n",
       "        vertical-align: middle;\n",
       "    }\n",
       "\n",
       "    .dataframe tbody tr th {\n",
       "        vertical-align: top;\n",
       "    }\n",
       "\n",
       "    .dataframe thead th {\n",
       "        text-align: right;\n",
       "    }\n",
       "</style>\n",
       "<table border=\"1\" class=\"dataframe\">\n",
       "  <thead>\n",
       "    <tr style=\"text-align: right;\">\n",
       "      <th></th>\n",
       "      <th>city</th>\n",
       "      <th>trips_in_first_30_days</th>\n",
       "      <th>signup_date</th>\n",
       "      <th>avg_rating_of_driver</th>\n",
       "      <th>avg_surge</th>\n",
       "      <th>last_trip_date</th>\n",
       "      <th>phone</th>\n",
       "      <th>surge_pct</th>\n",
       "      <th>ultimate_black_user</th>\n",
       "      <th>weekday_pct</th>\n",
       "      <th>avg_dist</th>\n",
       "      <th>avg_rating_by_driver</th>\n",
       "    </tr>\n",
       "  </thead>\n",
       "  <tbody>\n",
       "    <tr>\n",
       "      <td>0</td>\n",
       "      <td>King's Landing</td>\n",
       "      <td>4</td>\n",
       "      <td>2014-01-25</td>\n",
       "      <td>4.7</td>\n",
       "      <td>1.10</td>\n",
       "      <td>2014-06-17</td>\n",
       "      <td>iPhone</td>\n",
       "      <td>15.4</td>\n",
       "      <td>True</td>\n",
       "      <td>46.2</td>\n",
       "      <td>3.67</td>\n",
       "      <td>5.0</td>\n",
       "    </tr>\n",
       "    <tr>\n",
       "      <td>1</td>\n",
       "      <td>Astapor</td>\n",
       "      <td>0</td>\n",
       "      <td>2014-01-29</td>\n",
       "      <td>5.0</td>\n",
       "      <td>1.00</td>\n",
       "      <td>2014-05-05</td>\n",
       "      <td>Android</td>\n",
       "      <td>0.0</td>\n",
       "      <td>False</td>\n",
       "      <td>50.0</td>\n",
       "      <td>8.26</td>\n",
       "      <td>5.0</td>\n",
       "    </tr>\n",
       "    <tr>\n",
       "      <td>2</td>\n",
       "      <td>Astapor</td>\n",
       "      <td>3</td>\n",
       "      <td>2014-01-06</td>\n",
       "      <td>4.3</td>\n",
       "      <td>1.00</td>\n",
       "      <td>2014-01-07</td>\n",
       "      <td>iPhone</td>\n",
       "      <td>0.0</td>\n",
       "      <td>False</td>\n",
       "      <td>100.0</td>\n",
       "      <td>0.77</td>\n",
       "      <td>5.0</td>\n",
       "    </tr>\n",
       "    <tr>\n",
       "      <td>3</td>\n",
       "      <td>King's Landing</td>\n",
       "      <td>9</td>\n",
       "      <td>2014-01-10</td>\n",
       "      <td>4.6</td>\n",
       "      <td>1.14</td>\n",
       "      <td>2014-06-29</td>\n",
       "      <td>iPhone</td>\n",
       "      <td>20.0</td>\n",
       "      <td>True</td>\n",
       "      <td>80.0</td>\n",
       "      <td>2.36</td>\n",
       "      <td>4.9</td>\n",
       "    </tr>\n",
       "    <tr>\n",
       "      <td>4</td>\n",
       "      <td>Winterfell</td>\n",
       "      <td>14</td>\n",
       "      <td>2014-01-27</td>\n",
       "      <td>4.4</td>\n",
       "      <td>1.19</td>\n",
       "      <td>2014-03-15</td>\n",
       "      <td>Android</td>\n",
       "      <td>11.8</td>\n",
       "      <td>False</td>\n",
       "      <td>82.4</td>\n",
       "      <td>3.13</td>\n",
       "      <td>4.9</td>\n",
       "    </tr>\n",
       "  </tbody>\n",
       "</table>\n",
       "</div>"
      ],
      "text/plain": [
       "             city  trips_in_first_30_days signup_date  avg_rating_of_driver  \\\n",
       "0  King's Landing                       4  2014-01-25                   4.7   \n",
       "1         Astapor                       0  2014-01-29                   5.0   \n",
       "2         Astapor                       3  2014-01-06                   4.3   \n",
       "3  King's Landing                       9  2014-01-10                   4.6   \n",
       "4      Winterfell                      14  2014-01-27                   4.4   \n",
       "\n",
       "   avg_surge last_trip_date    phone  surge_pct  ultimate_black_user  \\\n",
       "0       1.10     2014-06-17   iPhone       15.4                 True   \n",
       "1       1.00     2014-05-05  Android        0.0                False   \n",
       "2       1.00     2014-01-07   iPhone        0.0                False   \n",
       "3       1.14     2014-06-29   iPhone       20.0                 True   \n",
       "4       1.19     2014-03-15  Android       11.8                False   \n",
       "\n",
       "   weekday_pct  avg_dist  avg_rating_by_driver  \n",
       "0         46.2      3.67                   5.0  \n",
       "1         50.0      8.26                   5.0  \n",
       "2        100.0      0.77                   5.0  \n",
       "3         80.0      2.36                   4.9  \n",
       "4         82.4      3.13                   4.9  "
      ]
     },
     "execution_count": 3,
     "metadata": {},
     "output_type": "execute_result"
    }
   ],
   "source": [
    "df.head()"
   ]
  },
  {
   "cell_type": "code",
   "execution_count": 4,
   "metadata": {},
   "outputs": [
    {
     "name": "stdout",
     "output_type": "stream",
     "text": [
      "<class 'pandas.core.frame.DataFrame'>\n",
      "RangeIndex: 50000 entries, 0 to 49999\n",
      "Data columns (total 12 columns):\n",
      "city                      50000 non-null object\n",
      "trips_in_first_30_days    50000 non-null int64\n",
      "signup_date               50000 non-null object\n",
      "avg_rating_of_driver      41878 non-null float64\n",
      "avg_surge                 50000 non-null float64\n",
      "last_trip_date            50000 non-null object\n",
      "phone                     49604 non-null object\n",
      "surge_pct                 50000 non-null float64\n",
      "ultimate_black_user       50000 non-null bool\n",
      "weekday_pct               50000 non-null float64\n",
      "avg_dist                  50000 non-null float64\n",
      "avg_rating_by_driver      49799 non-null float64\n",
      "dtypes: bool(1), float64(6), int64(1), object(4)\n",
      "memory usage: 4.2+ MB\n"
     ]
    }
   ],
   "source": [
    "df.info()"
   ]
  },
  {
   "cell_type": "markdown",
   "metadata": {},
   "source": [
    "We have missing data in 'avg_rating_by_driver' and 'avg_rating_of_driver' because sometimes the driver and rider both may have forgotten to give ratings to the rider. I would always consult with my peers in my team about what method to use to fill up NaN values. For this project, I will use the highest rating for any unrated trips. \n",
    "\n",
    "The 'last_trip_date' and 'signup_date' column are both string. I will convert them to datetime. \n",
    "\n",
    "The 'phone' column also has some missing data. I will fill the missing data with 'others'."
   ]
  },
  {
   "cell_type": "code",
   "execution_count": 5,
   "metadata": {},
   "outputs": [],
   "source": [
    "# Convert last_trip_date and signup_date to datetime\n",
    "df['last_trip_date'] = pd.to_datetime(df['last_trip_date'])\n",
    "df['signup_date'] = pd.to_datetime(df['signup_date'])"
   ]
  },
  {
   "cell_type": "code",
   "execution_count": 6,
   "metadata": {},
   "outputs": [],
   "source": [
    "# Find number of active days and convert it into a float\n",
    "df['num_active_days'] = (df['last_trip_date']-df['signup_date']) / timedelta(days=1)"
   ]
  },
  {
   "cell_type": "code",
   "execution_count": 7,
   "metadata": {},
   "outputs": [
    {
     "data": {
      "text/html": [
       "<div>\n",
       "<style scoped>\n",
       "    .dataframe tbody tr th:only-of-type {\n",
       "        vertical-align: middle;\n",
       "    }\n",
       "\n",
       "    .dataframe tbody tr th {\n",
       "        vertical-align: top;\n",
       "    }\n",
       "\n",
       "    .dataframe thead th {\n",
       "        text-align: right;\n",
       "    }\n",
       "</style>\n",
       "<table border=\"1\" class=\"dataframe\">\n",
       "  <thead>\n",
       "    <tr style=\"text-align: right;\">\n",
       "      <th></th>\n",
       "      <th>city</th>\n",
       "      <th>trips_in_first_30_days</th>\n",
       "      <th>signup_date</th>\n",
       "      <th>avg_rating_of_driver</th>\n",
       "      <th>avg_surge</th>\n",
       "      <th>last_trip_date</th>\n",
       "      <th>phone</th>\n",
       "      <th>surge_pct</th>\n",
       "      <th>ultimate_black_user</th>\n",
       "      <th>weekday_pct</th>\n",
       "      <th>avg_dist</th>\n",
       "      <th>avg_rating_by_driver</th>\n",
       "      <th>num_active_days</th>\n",
       "    </tr>\n",
       "  </thead>\n",
       "  <tbody>\n",
       "    <tr>\n",
       "      <td>0</td>\n",
       "      <td>King's Landing</td>\n",
       "      <td>4</td>\n",
       "      <td>2014-01-25</td>\n",
       "      <td>4.7</td>\n",
       "      <td>1.10</td>\n",
       "      <td>2014-06-17</td>\n",
       "      <td>iPhone</td>\n",
       "      <td>15.4</td>\n",
       "      <td>True</td>\n",
       "      <td>46.2</td>\n",
       "      <td>3.67</td>\n",
       "      <td>5.0</td>\n",
       "      <td>143.0</td>\n",
       "    </tr>\n",
       "    <tr>\n",
       "      <td>1</td>\n",
       "      <td>Astapor</td>\n",
       "      <td>0</td>\n",
       "      <td>2014-01-29</td>\n",
       "      <td>5.0</td>\n",
       "      <td>1.00</td>\n",
       "      <td>2014-05-05</td>\n",
       "      <td>Android</td>\n",
       "      <td>0.0</td>\n",
       "      <td>False</td>\n",
       "      <td>50.0</td>\n",
       "      <td>8.26</td>\n",
       "      <td>5.0</td>\n",
       "      <td>96.0</td>\n",
       "    </tr>\n",
       "    <tr>\n",
       "      <td>2</td>\n",
       "      <td>Astapor</td>\n",
       "      <td>3</td>\n",
       "      <td>2014-01-06</td>\n",
       "      <td>4.3</td>\n",
       "      <td>1.00</td>\n",
       "      <td>2014-01-07</td>\n",
       "      <td>iPhone</td>\n",
       "      <td>0.0</td>\n",
       "      <td>False</td>\n",
       "      <td>100.0</td>\n",
       "      <td>0.77</td>\n",
       "      <td>5.0</td>\n",
       "      <td>1.0</td>\n",
       "    </tr>\n",
       "    <tr>\n",
       "      <td>3</td>\n",
       "      <td>King's Landing</td>\n",
       "      <td>9</td>\n",
       "      <td>2014-01-10</td>\n",
       "      <td>4.6</td>\n",
       "      <td>1.14</td>\n",
       "      <td>2014-06-29</td>\n",
       "      <td>iPhone</td>\n",
       "      <td>20.0</td>\n",
       "      <td>True</td>\n",
       "      <td>80.0</td>\n",
       "      <td>2.36</td>\n",
       "      <td>4.9</td>\n",
       "      <td>170.0</td>\n",
       "    </tr>\n",
       "    <tr>\n",
       "      <td>4</td>\n",
       "      <td>Winterfell</td>\n",
       "      <td>14</td>\n",
       "      <td>2014-01-27</td>\n",
       "      <td>4.4</td>\n",
       "      <td>1.19</td>\n",
       "      <td>2014-03-15</td>\n",
       "      <td>Android</td>\n",
       "      <td>11.8</td>\n",
       "      <td>False</td>\n",
       "      <td>82.4</td>\n",
       "      <td>3.13</td>\n",
       "      <td>4.9</td>\n",
       "      <td>47.0</td>\n",
       "    </tr>\n",
       "  </tbody>\n",
       "</table>\n",
       "</div>"
      ],
      "text/plain": [
       "             city  trips_in_first_30_days signup_date  avg_rating_of_driver  \\\n",
       "0  King's Landing                       4  2014-01-25                   4.7   \n",
       "1         Astapor                       0  2014-01-29                   5.0   \n",
       "2         Astapor                       3  2014-01-06                   4.3   \n",
       "3  King's Landing                       9  2014-01-10                   4.6   \n",
       "4      Winterfell                      14  2014-01-27                   4.4   \n",
       "\n",
       "   avg_surge last_trip_date    phone  surge_pct  ultimate_black_user  \\\n",
       "0       1.10     2014-06-17   iPhone       15.4                 True   \n",
       "1       1.00     2014-05-05  Android        0.0                False   \n",
       "2       1.00     2014-01-07   iPhone        0.0                False   \n",
       "3       1.14     2014-06-29   iPhone       20.0                 True   \n",
       "4       1.19     2014-03-15  Android       11.8                False   \n",
       "\n",
       "   weekday_pct  avg_dist  avg_rating_by_driver  num_active_days  \n",
       "0         46.2      3.67                   5.0            143.0  \n",
       "1         50.0      8.26                   5.0             96.0  \n",
       "2        100.0      0.77                   5.0              1.0  \n",
       "3         80.0      2.36                   4.9            170.0  \n",
       "4         82.4      3.13                   4.9             47.0  "
      ]
     },
     "execution_count": 7,
     "metadata": {},
     "output_type": "execute_result"
    }
   ],
   "source": [
    "df.head()"
   ]
  },
  {
   "cell_type": "code",
   "execution_count": 8,
   "metadata": {},
   "outputs": [],
   "source": [
    "df['retention'] = np.where(df['num_active_days']<30, 0, 1)"
   ]
  },
  {
   "cell_type": "code",
   "execution_count": 9,
   "metadata": {},
   "outputs": [
    {
     "data": {
      "text/html": [
       "<div>\n",
       "<style scoped>\n",
       "    .dataframe tbody tr th:only-of-type {\n",
       "        vertical-align: middle;\n",
       "    }\n",
       "\n",
       "    .dataframe tbody tr th {\n",
       "        vertical-align: top;\n",
       "    }\n",
       "\n",
       "    .dataframe thead th {\n",
       "        text-align: right;\n",
       "    }\n",
       "</style>\n",
       "<table border=\"1\" class=\"dataframe\">\n",
       "  <thead>\n",
       "    <tr style=\"text-align: right;\">\n",
       "      <th></th>\n",
       "      <th>city</th>\n",
       "      <th>trips_in_first_30_days</th>\n",
       "      <th>signup_date</th>\n",
       "      <th>avg_rating_of_driver</th>\n",
       "      <th>avg_surge</th>\n",
       "      <th>last_trip_date</th>\n",
       "      <th>phone</th>\n",
       "      <th>surge_pct</th>\n",
       "      <th>ultimate_black_user</th>\n",
       "      <th>weekday_pct</th>\n",
       "      <th>avg_dist</th>\n",
       "      <th>avg_rating_by_driver</th>\n",
       "      <th>num_active_days</th>\n",
       "      <th>retention</th>\n",
       "    </tr>\n",
       "  </thead>\n",
       "  <tbody>\n",
       "    <tr>\n",
       "      <td>0</td>\n",
       "      <td>King's Landing</td>\n",
       "      <td>4</td>\n",
       "      <td>2014-01-25</td>\n",
       "      <td>4.7</td>\n",
       "      <td>1.10</td>\n",
       "      <td>2014-06-17</td>\n",
       "      <td>iPhone</td>\n",
       "      <td>15.4</td>\n",
       "      <td>True</td>\n",
       "      <td>46.2</td>\n",
       "      <td>3.67</td>\n",
       "      <td>5.0</td>\n",
       "      <td>143.0</td>\n",
       "      <td>1</td>\n",
       "    </tr>\n",
       "    <tr>\n",
       "      <td>1</td>\n",
       "      <td>Astapor</td>\n",
       "      <td>0</td>\n",
       "      <td>2014-01-29</td>\n",
       "      <td>5.0</td>\n",
       "      <td>1.00</td>\n",
       "      <td>2014-05-05</td>\n",
       "      <td>Android</td>\n",
       "      <td>0.0</td>\n",
       "      <td>False</td>\n",
       "      <td>50.0</td>\n",
       "      <td>8.26</td>\n",
       "      <td>5.0</td>\n",
       "      <td>96.0</td>\n",
       "      <td>1</td>\n",
       "    </tr>\n",
       "    <tr>\n",
       "      <td>2</td>\n",
       "      <td>Astapor</td>\n",
       "      <td>3</td>\n",
       "      <td>2014-01-06</td>\n",
       "      <td>4.3</td>\n",
       "      <td>1.00</td>\n",
       "      <td>2014-01-07</td>\n",
       "      <td>iPhone</td>\n",
       "      <td>0.0</td>\n",
       "      <td>False</td>\n",
       "      <td>100.0</td>\n",
       "      <td>0.77</td>\n",
       "      <td>5.0</td>\n",
       "      <td>1.0</td>\n",
       "      <td>0</td>\n",
       "    </tr>\n",
       "    <tr>\n",
       "      <td>3</td>\n",
       "      <td>King's Landing</td>\n",
       "      <td>9</td>\n",
       "      <td>2014-01-10</td>\n",
       "      <td>4.6</td>\n",
       "      <td>1.14</td>\n",
       "      <td>2014-06-29</td>\n",
       "      <td>iPhone</td>\n",
       "      <td>20.0</td>\n",
       "      <td>True</td>\n",
       "      <td>80.0</td>\n",
       "      <td>2.36</td>\n",
       "      <td>4.9</td>\n",
       "      <td>170.0</td>\n",
       "      <td>1</td>\n",
       "    </tr>\n",
       "    <tr>\n",
       "      <td>4</td>\n",
       "      <td>Winterfell</td>\n",
       "      <td>14</td>\n",
       "      <td>2014-01-27</td>\n",
       "      <td>4.4</td>\n",
       "      <td>1.19</td>\n",
       "      <td>2014-03-15</td>\n",
       "      <td>Android</td>\n",
       "      <td>11.8</td>\n",
       "      <td>False</td>\n",
       "      <td>82.4</td>\n",
       "      <td>3.13</td>\n",
       "      <td>4.9</td>\n",
       "      <td>47.0</td>\n",
       "      <td>1</td>\n",
       "    </tr>\n",
       "  </tbody>\n",
       "</table>\n",
       "</div>"
      ],
      "text/plain": [
       "             city  trips_in_first_30_days signup_date  avg_rating_of_driver  \\\n",
       "0  King's Landing                       4  2014-01-25                   4.7   \n",
       "1         Astapor                       0  2014-01-29                   5.0   \n",
       "2         Astapor                       3  2014-01-06                   4.3   \n",
       "3  King's Landing                       9  2014-01-10                   4.6   \n",
       "4      Winterfell                      14  2014-01-27                   4.4   \n",
       "\n",
       "   avg_surge last_trip_date    phone  surge_pct  ultimate_black_user  \\\n",
       "0       1.10     2014-06-17   iPhone       15.4                 True   \n",
       "1       1.00     2014-05-05  Android        0.0                False   \n",
       "2       1.00     2014-01-07   iPhone        0.0                False   \n",
       "3       1.14     2014-06-29   iPhone       20.0                 True   \n",
       "4       1.19     2014-03-15  Android       11.8                False   \n",
       "\n",
       "   weekday_pct  avg_dist  avg_rating_by_driver  num_active_days  retention  \n",
       "0         46.2      3.67                   5.0            143.0          1  \n",
       "1         50.0      8.26                   5.0             96.0          1  \n",
       "2        100.0      0.77                   5.0              1.0          0  \n",
       "3         80.0      2.36                   4.9            170.0          1  \n",
       "4         82.4      3.13                   4.9             47.0          1  "
      ]
     },
     "execution_count": 9,
     "metadata": {},
     "output_type": "execute_result"
    }
   ],
   "source": [
    "df.head()"
   ]
  },
  {
   "cell_type": "code",
   "execution_count": 10,
   "metadata": {},
   "outputs": [
    {
     "data": {
      "text/html": [
       "<div>\n",
       "<style scoped>\n",
       "    .dataframe tbody tr th:only-of-type {\n",
       "        vertical-align: middle;\n",
       "    }\n",
       "\n",
       "    .dataframe tbody tr th {\n",
       "        vertical-align: top;\n",
       "    }\n",
       "\n",
       "    .dataframe thead th {\n",
       "        text-align: right;\n",
       "    }\n",
       "</style>\n",
       "<table border=\"1\" class=\"dataframe\">\n",
       "  <thead>\n",
       "    <tr style=\"text-align: right;\">\n",
       "      <th></th>\n",
       "      <th>trips_in_first_30_days</th>\n",
       "      <th>avg_rating_of_driver</th>\n",
       "      <th>avg_surge</th>\n",
       "      <th>surge_pct</th>\n",
       "      <th>weekday_pct</th>\n",
       "      <th>avg_dist</th>\n",
       "      <th>avg_rating_by_driver</th>\n",
       "      <th>num_active_days</th>\n",
       "      <th>retention</th>\n",
       "    </tr>\n",
       "  </thead>\n",
       "  <tbody>\n",
       "    <tr>\n",
       "      <td>count</td>\n",
       "      <td>50000.000000</td>\n",
       "      <td>41878.000000</td>\n",
       "      <td>50000.000000</td>\n",
       "      <td>50000.000000</td>\n",
       "      <td>50000.000000</td>\n",
       "      <td>50000.000000</td>\n",
       "      <td>49799.000000</td>\n",
       "      <td>50000.000000</td>\n",
       "      <td>50000.000000</td>\n",
       "    </tr>\n",
       "    <tr>\n",
       "      <td>mean</td>\n",
       "      <td>2.278200</td>\n",
       "      <td>4.601559</td>\n",
       "      <td>1.074764</td>\n",
       "      <td>8.849536</td>\n",
       "      <td>60.926084</td>\n",
       "      <td>5.796827</td>\n",
       "      <td>4.778158</td>\n",
       "      <td>92.790100</td>\n",
       "      <td>0.742580</td>\n",
       "    </tr>\n",
       "    <tr>\n",
       "      <td>std</td>\n",
       "      <td>3.792684</td>\n",
       "      <td>0.617338</td>\n",
       "      <td>0.222336</td>\n",
       "      <td>19.958811</td>\n",
       "      <td>37.081503</td>\n",
       "      <td>5.707357</td>\n",
       "      <td>0.446652</td>\n",
       "      <td>62.129822</td>\n",
       "      <td>0.437217</td>\n",
       "    </tr>\n",
       "    <tr>\n",
       "      <td>min</td>\n",
       "      <td>0.000000</td>\n",
       "      <td>1.000000</td>\n",
       "      <td>1.000000</td>\n",
       "      <td>0.000000</td>\n",
       "      <td>0.000000</td>\n",
       "      <td>0.000000</td>\n",
       "      <td>1.000000</td>\n",
       "      <td>0.000000</td>\n",
       "      <td>0.000000</td>\n",
       "    </tr>\n",
       "    <tr>\n",
       "      <td>25%</td>\n",
       "      <td>0.000000</td>\n",
       "      <td>4.300000</td>\n",
       "      <td>1.000000</td>\n",
       "      <td>0.000000</td>\n",
       "      <td>33.300000</td>\n",
       "      <td>2.420000</td>\n",
       "      <td>4.700000</td>\n",
       "      <td>27.000000</td>\n",
       "      <td>0.000000</td>\n",
       "    </tr>\n",
       "    <tr>\n",
       "      <td>50%</td>\n",
       "      <td>1.000000</td>\n",
       "      <td>4.900000</td>\n",
       "      <td>1.000000</td>\n",
       "      <td>0.000000</td>\n",
       "      <td>66.700000</td>\n",
       "      <td>3.880000</td>\n",
       "      <td>5.000000</td>\n",
       "      <td>110.000000</td>\n",
       "      <td>1.000000</td>\n",
       "    </tr>\n",
       "    <tr>\n",
       "      <td>75%</td>\n",
       "      <td>3.000000</td>\n",
       "      <td>5.000000</td>\n",
       "      <td>1.050000</td>\n",
       "      <td>8.600000</td>\n",
       "      <td>100.000000</td>\n",
       "      <td>6.940000</td>\n",
       "      <td>5.000000</td>\n",
       "      <td>150.000000</td>\n",
       "      <td>1.000000</td>\n",
       "    </tr>\n",
       "    <tr>\n",
       "      <td>max</td>\n",
       "      <td>125.000000</td>\n",
       "      <td>5.000000</td>\n",
       "      <td>8.000000</td>\n",
       "      <td>100.000000</td>\n",
       "      <td>100.000000</td>\n",
       "      <td>160.960000</td>\n",
       "      <td>5.000000</td>\n",
       "      <td>181.000000</td>\n",
       "      <td>1.000000</td>\n",
       "    </tr>\n",
       "  </tbody>\n",
       "</table>\n",
       "</div>"
      ],
      "text/plain": [
       "       trips_in_first_30_days  avg_rating_of_driver     avg_surge  \\\n",
       "count            50000.000000          41878.000000  50000.000000   \n",
       "mean                 2.278200              4.601559      1.074764   \n",
       "std                  3.792684              0.617338      0.222336   \n",
       "min                  0.000000              1.000000      1.000000   \n",
       "25%                  0.000000              4.300000      1.000000   \n",
       "50%                  1.000000              4.900000      1.000000   \n",
       "75%                  3.000000              5.000000      1.050000   \n",
       "max                125.000000              5.000000      8.000000   \n",
       "\n",
       "          surge_pct   weekday_pct      avg_dist  avg_rating_by_driver  \\\n",
       "count  50000.000000  50000.000000  50000.000000          49799.000000   \n",
       "mean       8.849536     60.926084      5.796827              4.778158   \n",
       "std       19.958811     37.081503      5.707357              0.446652   \n",
       "min        0.000000      0.000000      0.000000              1.000000   \n",
       "25%        0.000000     33.300000      2.420000              4.700000   \n",
       "50%        0.000000     66.700000      3.880000              5.000000   \n",
       "75%        8.600000    100.000000      6.940000              5.000000   \n",
       "max      100.000000    100.000000    160.960000              5.000000   \n",
       "\n",
       "       num_active_days     retention  \n",
       "count     50000.000000  50000.000000  \n",
       "mean         92.790100      0.742580  \n",
       "std          62.129822      0.437217  \n",
       "min           0.000000      0.000000  \n",
       "25%          27.000000      0.000000  \n",
       "50%         110.000000      1.000000  \n",
       "75%         150.000000      1.000000  \n",
       "max         181.000000      1.000000  "
      ]
     },
     "execution_count": 10,
     "metadata": {},
     "output_type": "execute_result"
    }
   ],
   "source": [
    "df.describe()"
   ]
  },
  {
   "cell_type": "code",
   "execution_count": 11,
   "metadata": {},
   "outputs": [
    {
     "data": {
      "text/plain": [
       "4.77815819594771"
      ]
     },
     "execution_count": 11,
     "metadata": {},
     "output_type": "execute_result"
    }
   ],
   "source": [
    "df.avg_rating_by_driver.mean()"
   ]
  },
  {
   "cell_type": "code",
   "execution_count": 12,
   "metadata": {},
   "outputs": [],
   "source": [
    "# Fill the null values with mean rating for both avg_rating_by_driver and avg_rating_of_driver\n",
    "df['avg_rating_by_driver'] = df['avg_rating_by_driver'].fillna(df['avg_rating_by_driver'].mean())\n",
    "df['avg_rating_of_driver'] = df['avg_rating_of_driver'].fillna(df['avg_rating_of_driver'].mean())"
   ]
  },
  {
   "cell_type": "code",
   "execution_count": 13,
   "metadata": {},
   "outputs": [],
   "source": [
    "df['phone'] = df['phone'].fillna('other')"
   ]
  },
  {
   "cell_type": "code",
   "execution_count": 14,
   "metadata": {},
   "outputs": [
    {
     "name": "stdout",
     "output_type": "stream",
     "text": [
      "<class 'pandas.core.frame.DataFrame'>\n",
      "RangeIndex: 50000 entries, 0 to 49999\n",
      "Data columns (total 14 columns):\n",
      "city                      50000 non-null object\n",
      "trips_in_first_30_days    50000 non-null int64\n",
      "signup_date               50000 non-null datetime64[ns]\n",
      "avg_rating_of_driver      50000 non-null float64\n",
      "avg_surge                 50000 non-null float64\n",
      "last_trip_date            50000 non-null datetime64[ns]\n",
      "phone                     50000 non-null object\n",
      "surge_pct                 50000 non-null float64\n",
      "ultimate_black_user       50000 non-null bool\n",
      "weekday_pct               50000 non-null float64\n",
      "avg_dist                  50000 non-null float64\n",
      "avg_rating_by_driver      50000 non-null float64\n",
      "num_active_days           50000 non-null float64\n",
      "retention                 50000 non-null int32\n",
      "dtypes: bool(1), datetime64[ns](2), float64(7), int32(1), int64(1), object(2)\n",
      "memory usage: 4.8+ MB\n"
     ]
    }
   ],
   "source": [
    "df.info()"
   ]
  },
  {
   "cell_type": "markdown",
   "metadata": {},
   "source": [
    "# Exploratory analysis"
   ]
  },
  {
   "cell_type": "code",
   "execution_count": 15,
   "metadata": {},
   "outputs": [
    {
     "data": {
      "text/plain": [
       "1    37129\n",
       "0    12871\n",
       "Name: retention, dtype: int64"
      ]
     },
     "execution_count": 15,
     "metadata": {},
     "output_type": "execute_result"
    }
   ],
   "source": [
    "df.retention.value_counts()"
   ]
  },
  {
   "cell_type": "code",
   "execution_count": 16,
   "metadata": {},
   "outputs": [
    {
     "data": {
      "image/png": "[encoded data removed]",
      "text/plain": [
       "<Figure size 432x288 with 1 Axes>"
      ]
     },
     "metadata": {
      "needs_background": "light"
     },
     "output_type": "display_data"
    }
   ],
   "source": [
    "plt.xlabel('Retention')\n",
    "plt.ylabel('Count')\n",
    "plt.title('Retention Distribution')\n",
    "df.retention.value_counts().plot(kind='bar')\n",
    "plt.tight_layout()"
   ]
  },
  {
   "cell_type": "code",
   "execution_count": 17,
   "metadata": {},
   "outputs": [
    {
     "data": {
      "image/png": "[encoded data removed]",
      "text/plain": [
       "<Figure size 864x504 with 1 Axes>"
      ]
     },
     "metadata": {
      "needs_background": "light"
     },
     "output_type": "display_data"
    }
   ],
   "source": [
    "plt.figure(figsize=(12,7))\n",
    "sns.countplot(x='avg_rating_by_driver', hue='retention', data = df)\n",
    "plt.tight_layout()"
   ]
  },
  {
   "cell_type": "code",
   "execution_count": 18,
   "metadata": {},
   "outputs": [
    {
     "data": {
      "image/png": "[encoded data removed]",
      "text/plain": [
       "<Figure size 864x504 with 1 Axes>"
      ]
     },
     "metadata": {
      "needs_background": "light"
     },
     "output_type": "display_data"
    }
   ],
   "source": [
    "plt.figure(figsize=(12,7))\n",
    "sns.countplot(x='avg_rating_of_driver', hue='retention', data = df)\n",
    "plt.tight_layout()"
   ]
  },
  {
   "cell_type": "code",
   "execution_count": 19,
   "metadata": {},
   "outputs": [
    {
     "data": {
      "image/png": "[encoded data removed]",
      "text/plain": [
       "<Figure size 864x504 with 1 Axes>"
      ]
     },
     "metadata": {
      "needs_background": "light"
     },
     "output_type": "display_data"
    }
   ],
   "source": [
    "plt.figure(figsize=(12,7))\n",
    "sns.countplot(x='city', hue='retention', data = df)\n",
    "plt.tight_layout()"
   ]
  },
  {
   "cell_type": "code",
   "execution_count": 20,
   "metadata": {},
   "outputs": [
    {
     "data": {
      "image/png": "[encoded data removed]",
      "text/plain": [
       "<Figure size 864x504 with 1 Axes>"
      ]
     },
     "metadata": {
      "needs_background": "light"
     },
     "output_type": "display_data"
    }
   ],
   "source": [
    "plt.figure(figsize=(12,7))\n",
    "sns.countplot(x='phone', hue='retention', data = df)\n",
    "plt.tight_layout()"
   ]
  },
  {
   "cell_type": "code",
   "execution_count": 21,
   "metadata": {},
   "outputs": [
    {
     "data": {
      "image/png": "[encoded data removed]",
      "text/plain": [
       "<Figure size 864x504 with 1 Axes>"
      ]
     },
     "metadata": {
      "needs_background": "light"
     },
     "output_type": "display_data"
    }
   ],
   "source": [
    "plt.figure(figsize=(12,7))\n",
    "sns.countplot(x='signup_date', hue='retention', data = df)\n",
    "plt.xticks(rotation=90)\n",
    "plt.tight_layout()"
   ]
  },
  {
   "cell_type": "code",
   "execution_count": 22,
   "metadata": {},
   "outputs": [
    {
     "data": {
      "image/png": "[encoded data removed]",
      "text/plain": [
       "<Figure size 864x504 with 1 Axes>"
      ]
     },
     "metadata": {
      "needs_background": "light"
     },
     "output_type": "display_data"
    }
   ],
   "source": [
    "plt.figure(figsize=(12,7))\n",
    "sns.countplot(x='trips_in_first_30_days', hue='retention', data = df)\n",
    "plt.xticks(rotation=90)\n",
    "plt.tight_layout()"
   ]
  },
  {
   "cell_type": "code",
   "execution_count": 23,
   "metadata": {},
   "outputs": [
    {
     "data": {
      "image/png": "[encoded data removed]",
      "text/plain": [
       "<Figure size 864x504 with 1 Axes>"
      ]
     },
     "metadata": {
      "needs_background": "light"
     },
     "output_type": "display_data"
    }
   ],
   "source": [
    "plt.figure(figsize=(12,7))\n",
    "sns.countplot(x='ultimate_black_user', hue='retention', data = df)\n",
    "plt.xticks(rotation=90)\n",
    "plt.tight_layout()"
   ]
  },
  {
   "cell_type": "markdown",
   "metadata": {},
   "source": [
    "# Chi-squared Test"
   ]
  },
  {
   "cell_type": "code",
   "execution_count": 24,
   "metadata": {},
   "outputs": [],
   "source": [
    "from scipy.stats import chisquare\n",
    "from scipy import stats"
   ]
  },
  {
   "cell_type": "markdown",
   "metadata": {},
   "source": [
    "# For: City\n",
    "\n",
    "H0: City and retention are independent.\n",
    "\n",
    "Ha: City and retention are dependent.  \n",
    "\n",
    "alpha = 0.05"
   ]
  },
  {
   "cell_type": "code",
   "execution_count": 25,
   "metadata": {},
   "outputs": [
    {
     "data": {
      "text/html": [
       "<div>\n",
       "<style scoped>\n",
       "    .dataframe tbody tr th:only-of-type {\n",
       "        vertical-align: middle;\n",
       "    }\n",
       "\n",
       "    .dataframe tbody tr th {\n",
       "        vertical-align: top;\n",
       "    }\n",
       "\n",
       "    .dataframe thead th {\n",
       "        text-align: right;\n",
       "    }\n",
       "</style>\n",
       "<table border=\"1\" class=\"dataframe\">\n",
       "  <thead>\n",
       "    <tr style=\"text-align: right;\">\n",
       "      <th>city</th>\n",
       "      <th>Astapor</th>\n",
       "      <th>King's Landing</th>\n",
       "      <th>Winterfell</th>\n",
       "    </tr>\n",
       "    <tr>\n",
       "      <th>retention</th>\n",
       "      <th></th>\n",
       "      <th></th>\n",
       "      <th></th>\n",
       "    </tr>\n",
       "  </thead>\n",
       "  <tbody>\n",
       "    <tr>\n",
       "      <td>0</td>\n",
       "      <td>4840</td>\n",
       "      <td>1647</td>\n",
       "      <td>6384</td>\n",
       "    </tr>\n",
       "    <tr>\n",
       "      <td>1</td>\n",
       "      <td>11694</td>\n",
       "      <td>8483</td>\n",
       "      <td>16952</td>\n",
       "    </tr>\n",
       "  </tbody>\n",
       "</table>\n",
       "</div>"
      ],
      "text/plain": [
       "city       Astapor  King's Landing  Winterfell\n",
       "retention                                     \n",
       "0             4840            1647        6384\n",
       "1            11694            8483       16952"
      ]
     },
     "execution_count": 25,
     "metadata": {},
     "output_type": "execute_result"
    }
   ],
   "source": [
    "chi_squared_test_city = df.groupby(['retention','city']).count()['signup_date'].unstack()\n",
    "chi_squared_test_city"
   ]
  },
  {
   "cell_type": "code",
   "execution_count": 26,
   "metadata": {},
   "outputs": [
    {
     "name": "stdout",
     "output_type": "stream",
     "text": [
      "chi2: 616.272764198554\n",
      "DF: 2\n",
      "p-value: 1.5068484671361196e-134\n",
      "Expected values: [[ 4256.18228  2607.6646   6007.15312]\n",
      " [12277.81772  7522.3354  17328.84688]]\n"
     ]
    }
   ],
   "source": [
    "obs = [[4840,1647,6384],[11694,8483,16952]]\n",
    "chi2, p, dof, expected = stats.chi2_contingency(obs)\n",
    "print('chi2:',chi2)\n",
    "print('DF:',dof)\n",
    "print('p-value:',p)\n",
    "print('Expected values:', expected)"
   ]
  },
  {
   "cell_type": "markdown",
   "metadata": {},
   "source": [
    "The p-value is less than 0.001. We reject the null hypothesis and suggest that City and retention are dependent."
   ]
  },
  {
   "cell_type": "markdown",
   "metadata": {},
   "source": [
    "# For: Phone\n",
    "\n",
    "H0: Phone and retention are independent.\n",
    "\n",
    "Ha: Phone and retention are dependent.  \n",
    "\n",
    "alpha = 0.05"
   ]
  },
  {
   "cell_type": "code",
   "execution_count": 27,
   "metadata": {},
   "outputs": [
    {
     "data": {
      "text/html": [
       "<div>\n",
       "<style scoped>\n",
       "    .dataframe tbody tr th:only-of-type {\n",
       "        vertical-align: middle;\n",
       "    }\n",
       "\n",
       "    .dataframe tbody tr th {\n",
       "        vertical-align: top;\n",
       "    }\n",
       "\n",
       "    .dataframe thead th {\n",
       "        text-align: right;\n",
       "    }\n",
       "</style>\n",
       "<table border=\"1\" class=\"dataframe\">\n",
       "  <thead>\n",
       "    <tr style=\"text-align: right;\">\n",
       "      <th>phone</th>\n",
       "      <th>Android</th>\n",
       "      <th>iPhone</th>\n",
       "      <th>other</th>\n",
       "    </tr>\n",
       "    <tr>\n",
       "      <th>retention</th>\n",
       "      <th></th>\n",
       "      <th></th>\n",
       "      <th></th>\n",
       "    </tr>\n",
       "  </thead>\n",
       "  <tbody>\n",
       "    <tr>\n",
       "      <td>0</td>\n",
       "      <td>4999</td>\n",
       "      <td>7711</td>\n",
       "      <td>161</td>\n",
       "    </tr>\n",
       "    <tr>\n",
       "      <td>1</td>\n",
       "      <td>10023</td>\n",
       "      <td>26871</td>\n",
       "      <td>235</td>\n",
       "    </tr>\n",
       "  </tbody>\n",
       "</table>\n",
       "</div>"
      ],
      "text/plain": [
       "phone      Android  iPhone  other\n",
       "retention                        \n",
       "0             4999    7711    161\n",
       "1            10023   26871    235"
      ]
     },
     "execution_count": 27,
     "metadata": {},
     "output_type": "execute_result"
    }
   ],
   "source": [
    "chi_squared_test_phone = df.groupby(['retention','phone']).count()['signup_date'].unstack()\n",
    "chi_squared_test_phone"
   ]
  },
  {
   "cell_type": "code",
   "execution_count": 28,
   "metadata": {},
   "outputs": [
    {
     "name": "stdout",
     "output_type": "stream",
     "text": [
      "chi2: 706.9771067994824\n",
      "DF: 2\n",
      "p-value: 3.032996034765694e-154\n",
      "Expected values: [[ 3866.96324  8902.09844   101.93832]\n",
      " [11155.03676 25679.90156   294.06168]]\n"
     ]
    }
   ],
   "source": [
    "obs = [[4999,7711,161],[10023,26871,235]]\n",
    "chi2, p, dof, expected = stats.chi2_contingency(obs)\n",
    "print('chi2:',chi2)\n",
    "print('DF:',dof)\n",
    "print('p-value:',p)\n",
    "print('Expected values:', expected)"
   ]
  },
  {
   "cell_type": "markdown",
   "metadata": {},
   "source": [
    "The chi-squared statistics is 706.98. The p-value is less than 0.001. We reject the null hypothesis."
   ]
  },
  {
   "cell_type": "markdown",
   "metadata": {},
   "source": [
    "# Machine Learning"
   ]
  },
  {
   "cell_type": "code",
   "execution_count": 29,
   "metadata": {},
   "outputs": [],
   "source": [
    "#create dummies features for all the categorical columns data\n",
    "new_df = pd.get_dummies(df, columns=['city','phone'], drop_first=True)"
   ]
  },
  {
   "cell_type": "code",
   "execution_count": 30,
   "metadata": {},
   "outputs": [],
   "source": [
    "# convert True and False boolean into int \n",
    "new_df['ultimate_black_user'] = new_df['ultimate_black_user'].astype(int)"
   ]
  },
  {
   "cell_type": "code",
   "execution_count": 31,
   "metadata": {},
   "outputs": [],
   "source": [
    "# drop last_trip_date and signup_date from the features\n",
    "new_df = new_df.drop(['last_trip_date','signup_date'], axis=1)"
   ]
  },
  {
   "cell_type": "code",
   "execution_count": 32,
   "metadata": {},
   "outputs": [
    {
     "name": "stdout",
     "output_type": "stream",
     "text": [
      "<class 'pandas.core.frame.DataFrame'>\n",
      "RangeIndex: 50000 entries, 0 to 49999\n",
      "Data columns (total 14 columns):\n",
      "trips_in_first_30_days    50000 non-null int64\n",
      "avg_rating_of_driver      50000 non-null float64\n",
      "avg_surge                 50000 non-null float64\n",
      "surge_pct                 50000 non-null float64\n",
      "ultimate_black_user       50000 non-null int32\n",
      "weekday_pct               50000 non-null float64\n",
      "avg_dist                  50000 non-null float64\n",
      "avg_rating_by_driver      50000 non-null float64\n",
      "num_active_days           50000 non-null float64\n",
      "retention                 50000 non-null int32\n",
      "city_King's Landing       50000 non-null uint8\n",
      "city_Winterfell           50000 non-null uint8\n",
      "phone_iPhone              50000 non-null uint8\n",
      "phone_other               50000 non-null uint8\n",
      "dtypes: float64(7), int32(2), int64(1), uint8(4)\n",
      "memory usage: 3.6 MB\n"
     ]
    }
   ],
   "source": [
    "new_df.info()"
   ]
  },
  {
   "cell_type": "code",
   "execution_count": 33,
   "metadata": {},
   "outputs": [
    {
     "data": {
      "text/html": [
       "<div>\n",
       "<style scoped>\n",
       "    .dataframe tbody tr th:only-of-type {\n",
       "        vertical-align: middle;\n",
       "    }\n",
       "\n",
       "    .dataframe tbody tr th {\n",
       "        vertical-align: top;\n",
       "    }\n",
       "\n",
       "    .dataframe thead th {\n",
       "        text-align: right;\n",
       "    }\n",
       "</style>\n",
       "<table border=\"1\" class=\"dataframe\">\n",
       "  <thead>\n",
       "    <tr style=\"text-align: right;\">\n",
       "      <th></th>\n",
       "      <th>trips_in_first_30_days</th>\n",
       "      <th>avg_rating_of_driver</th>\n",
       "      <th>avg_surge</th>\n",
       "      <th>surge_pct</th>\n",
       "      <th>ultimate_black_user</th>\n",
       "      <th>weekday_pct</th>\n",
       "      <th>avg_dist</th>\n",
       "      <th>avg_rating_by_driver</th>\n",
       "      <th>num_active_days</th>\n",
       "      <th>retention</th>\n",
       "      <th>city_King's Landing</th>\n",
       "      <th>city_Winterfell</th>\n",
       "      <th>phone_iPhone</th>\n",
       "      <th>phone_other</th>\n",
       "    </tr>\n",
       "  </thead>\n",
       "  <tbody>\n",
       "    <tr>\n",
       "      <td>0</td>\n",
       "      <td>4</td>\n",
       "      <td>4.7</td>\n",
       "      <td>1.10</td>\n",
       "      <td>15.4</td>\n",
       "      <td>1</td>\n",
       "      <td>46.2</td>\n",
       "      <td>3.67</td>\n",
       "      <td>5.0</td>\n",
       "      <td>143.0</td>\n",
       "      <td>1</td>\n",
       "      <td>1</td>\n",
       "      <td>0</td>\n",
       "      <td>1</td>\n",
       "      <td>0</td>\n",
       "    </tr>\n",
       "    <tr>\n",
       "      <td>1</td>\n",
       "      <td>0</td>\n",
       "      <td>5.0</td>\n",
       "      <td>1.00</td>\n",
       "      <td>0.0</td>\n",
       "      <td>0</td>\n",
       "      <td>50.0</td>\n",
       "      <td>8.26</td>\n",
       "      <td>5.0</td>\n",
       "      <td>96.0</td>\n",
       "      <td>1</td>\n",
       "      <td>0</td>\n",
       "      <td>0</td>\n",
       "      <td>0</td>\n",
       "      <td>0</td>\n",
       "    </tr>\n",
       "    <tr>\n",
       "      <td>2</td>\n",
       "      <td>3</td>\n",
       "      <td>4.3</td>\n",
       "      <td>1.00</td>\n",
       "      <td>0.0</td>\n",
       "      <td>0</td>\n",
       "      <td>100.0</td>\n",
       "      <td>0.77</td>\n",
       "      <td>5.0</td>\n",
       "      <td>1.0</td>\n",
       "      <td>0</td>\n",
       "      <td>0</td>\n",
       "      <td>0</td>\n",
       "      <td>1</td>\n",
       "      <td>0</td>\n",
       "    </tr>\n",
       "    <tr>\n",
       "      <td>3</td>\n",
       "      <td>9</td>\n",
       "      <td>4.6</td>\n",
       "      <td>1.14</td>\n",
       "      <td>20.0</td>\n",
       "      <td>1</td>\n",
       "      <td>80.0</td>\n",
       "      <td>2.36</td>\n",
       "      <td>4.9</td>\n",
       "      <td>170.0</td>\n",
       "      <td>1</td>\n",
       "      <td>1</td>\n",
       "      <td>0</td>\n",
       "      <td>1</td>\n",
       "      <td>0</td>\n",
       "    </tr>\n",
       "    <tr>\n",
       "      <td>4</td>\n",
       "      <td>14</td>\n",
       "      <td>4.4</td>\n",
       "      <td>1.19</td>\n",
       "      <td>11.8</td>\n",
       "      <td>0</td>\n",
       "      <td>82.4</td>\n",
       "      <td>3.13</td>\n",
       "      <td>4.9</td>\n",
       "      <td>47.0</td>\n",
       "      <td>1</td>\n",
       "      <td>0</td>\n",
       "      <td>1</td>\n",
       "      <td>0</td>\n",
       "      <td>0</td>\n",
       "    </tr>\n",
       "  </tbody>\n",
       "</table>\n",
       "</div>"
      ],
      "text/plain": [
       "   trips_in_first_30_days  avg_rating_of_driver  avg_surge  surge_pct  \\\n",
       "0                       4                   4.7       1.10       15.4   \n",
       "1                       0                   5.0       1.00        0.0   \n",
       "2                       3                   4.3       1.00        0.0   \n",
       "3                       9                   4.6       1.14       20.0   \n",
       "4                      14                   4.4       1.19       11.8   \n",
       "\n",
       "   ultimate_black_user  weekday_pct  avg_dist  avg_rating_by_driver  \\\n",
       "0                    1         46.2      3.67                   5.0   \n",
       "1                    0         50.0      8.26                   5.0   \n",
       "2                    0        100.0      0.77                   5.0   \n",
       "3                    1         80.0      2.36                   4.9   \n",
       "4                    0         82.4      3.13                   4.9   \n",
       "\n",
       "   num_active_days  retention  city_King's Landing  city_Winterfell  \\\n",
       "0            143.0          1                    1                0   \n",
       "1             96.0          1                    0                0   \n",
       "2              1.0          0                    0                0   \n",
       "3            170.0          1                    1                0   \n",
       "4             47.0          1                    0                1   \n",
       "\n",
       "   phone_iPhone  phone_other  \n",
       "0             1            0  \n",
       "1             0            0  \n",
       "2             1            0  \n",
       "3             1            0  \n",
       "4             0            0  "
      ]
     },
     "execution_count": 33,
     "metadata": {},
     "output_type": "execute_result"
    }
   ],
   "source": [
    "new_df.head()"
   ]
  },
  {
   "cell_type": "code",
   "execution_count": 34,
   "metadata": {},
   "outputs": [],
   "source": [
    "# Create features X and label y\n",
    "X = new_df.drop('retention', axis=1)\n",
    "y = new_df['retention']"
   ]
  },
  {
   "cell_type": "code",
   "execution_count": 35,
   "metadata": {},
   "outputs": [],
   "source": [
    "# import train_test_split to split data into training and testing set\n",
    "from sklearn.model_selection import train_test_split\n",
    "\n",
    "#Create a train test split of the data with test size 30%\n",
    "X_train, X_test, y_train, y_test = train_test_split(X, y, test_size=0.30, random_state=123, stratify=y)"
   ]
  },
  {
   "cell_type": "markdown",
   "metadata": {},
   "source": [
    "# Taking Care of Class Imbalance"
   ]
  },
  {
   "cell_type": "code",
   "execution_count": 36,
   "metadata": {},
   "outputs": [
    {
     "name": "stdout",
     "output_type": "stream",
     "text": [
      "Distribution of class labels before resampling Counter({1: 25990, 0: 9010})\n",
      "Distribution of class labels after resampling Counter({1: 18020, 0: 9010})\n"
     ]
    }
   ],
   "source": [
    "#Import LogisticRegression\n",
    "from sklearn.linear_model import LogisticRegression\n",
    "#Import RandomForest Classifier\n",
    "from sklearn.ensemble import RandomForestClassifier\n",
    "from sklearn.model_selection import RandomizedSearchCV, GridSearchCV\n",
    "from time import time\n",
    "from imblearn.under_sampling import RandomUnderSampler\n",
    "from collections import Counter\n",
    "# import different metrics we will use to evaluate the models\n",
    "from sklearn.metrics import accuracy_score, precision_score, recall_score, roc_curve, auc\n",
    "from sklearn.metrics import f1_score\n",
    "\n",
    "#Random Undersampling\n",
    "us = RandomUnderSampler(ratio=0.5, random_state=1)\n",
    "X_train_res, y_train_res = us.fit_sample(X_train, y_train)\n",
    "\n",
    "print('Distribution of class labels before resampling {}'.format(Counter(y_train)))\n",
    "print('Distribution of class labels after resampling {}'.format(Counter(y_train_res)))"
   ]
  },
  {
   "cell_type": "code",
   "execution_count": 37,
   "metadata": {},
   "outputs": [
    {
     "name": "stdout",
     "output_type": "stream",
     "text": [
      "Tuned Logistic Regression Parameters: {'C': 10}\n",
      "Best score is 0.9970\n",
      "AUC Score: 0.9964\n",
      "Accuracy Score: 0.9969\n",
      "Precision Score: 0.9984\n",
      "Recall Score: 0.9974\n",
      "f1 score: 0.9979\n"
     ]
    },
    {
     "data": {
      "text/plain": [
       "GridSearchCV(cv=5, error_score='raise-deprecating',\n",
       "             estimator=LogisticRegression(C=1.0, class_weight=None, dual=False,\n",
       "                                          fit_intercept=True,\n",
       "                                          intercept_scaling=1, l1_ratio=None,\n",
       "                                          max_iter=100, multi_class='warn',\n",
       "                                          n_jobs=None, penalty='l2',\n",
       "                                          random_state=None, solver='warn',\n",
       "                                          tol=0.0001, verbose=0,\n",
       "                                          warm_start=False),\n",
       "             iid='warn', n_jobs=None,\n",
       "             param_grid={'C': [0.001, 0.01, 0.1, 1, 10, 100, 1000]},\n",
       "             pre_dispatch='2*n_jobs', refit=True, return_train_score=False,\n",
       "             scoring=None, verbose=0)"
      ]
     },
     "execution_count": 37,
     "metadata": {},
     "output_type": "execute_result"
    }
   ],
   "source": [
    "# Instantiate a logistic regression classifier: \n",
    "model = LogisticRegression(solver='warn')\n",
    "\n",
    "# Setup the hyperparameter grid\n",
    "param_grid = {'C': [0.001,0.01,0.1,1,10,100,1000]}\n",
    "\n",
    "# Instantiate the GridSearchCV object: \n",
    "model_cv = GridSearchCV(model, param_grid=param_grid, cv=5)\n",
    "\n",
    "# Fit it to the data\n",
    "model_cv.fit(X_train_res,y_train_res)\n",
    "\n",
    "y_pred_test = model_cv.predict(X_test)\n",
    "\n",
    "#to calculate the auc score\n",
    "false_positive_rate, true_positive_rate, thresholds = roc_curve(y_test, y_pred_test)\n",
    "roc_auc = auc(false_positive_rate, true_positive_rate)\n",
    "#calculate other metrics scores\n",
    "accuracy = accuracy_score(y_pred=y_pred_test, y_true=y_test)\n",
    "precision = precision_score(y_pred=y_pred_test, y_true=y_test)\n",
    "recall = recall_score(y_pred=y_pred_test,y_true=y_test)\n",
    "f1score = f1_score(y_true=y_test, y_pred=y_pred_test)\n",
    "\n",
    "#resampled_score = resampled_score.append({'method': 'not resampled','recall':recall,\n",
    "#'precision':precision, 'f1_score':f1score, 'AUC':roc_auc}, ignore_index=True)\n",
    "\n",
    "# Print the tuned parameters and score\n",
    "print('Tuned Logistic Regression Parameters: {}'.format(model_cv.best_params_))\n",
    "print('Best score is {0:.4f}'.format(model_cv.best_score_))\n",
    "print('AUC Score: {0:.4f}'.format(roc_auc))\n",
    "print('Accuracy Score: {0:.4f}'.format(accuracy))\n",
    "print('Precision Score: {0:.4f}'.format(precision))\n",
    "print('Recall Score: {0:.4f}'.format(recall))\n",
    "print('f1 score: {0:.4f}'.format(f1score))\n",
    "\n",
    "model_cv"
   ]
  },
  {
   "cell_type": "code",
   "execution_count": 38,
   "metadata": {},
   "outputs": [
    {
     "name": "stdout",
     "output_type": "stream",
     "text": [
      "RandomizedSearchCV took 43.02 seconds for 10 candidates parameter settings.\n",
      "Tuned Random Forest with Roandom Undersampling Parameters: {'n_estimators': 500, 'max_features': 9, 'max_depth': 3}\n",
      "Best score is 1.0000\n",
      "AUC Score: 1.0000\n",
      "Accuracy Score: 1.0000\n",
      "Precision Score: 1.0000\n",
      "Recall Score: 1.0000\n",
      "f1 score: 1.0000\n"
     ]
    }
   ],
   "source": [
    "clf_base = RandomForestClassifier()\n",
    "\n",
    "# Setup the parameters and distributions to sample from: param_dist\n",
    "param_dist = {'max_depth': range(1,10),\n",
    "             'max_features': range(1,10),\n",
    "             'n_estimators': [10,50,100,150,200,250,300,350,400,500]}\n",
    "\n",
    "clf = RandomizedSearchCV(clf_base, param_dist, cv=5,n_jobs=8, scoring='f1')\n",
    "\n",
    "start = time()\n",
    "\n",
    "clf.fit(X_train_res, y_train_res)\n",
    "\n",
    "print('RandomizedSearchCV took %.2f seconds for %d candidates'\n",
    "      ' parameter settings.' % ((time() - start), clf.n_iter))\n",
    "\n",
    "#to store the predicted labels\n",
    "y_pred_test = clf.predict(X_test)\n",
    "\n",
    "#to calculate the auc score\n",
    "false_positive_rate, true_positive_rate, thresholds = roc_curve(y_test, y_pred_test)\n",
    "roc_auc = auc(false_positive_rate, true_positive_rate)\n",
    "#calculate other metrics scores\n",
    "accuracy = accuracy_score(y_pred=y_pred_test, y_true=y_test)\n",
    "precision = precision_score(y_pred=y_pred_test, y_true=y_test)\n",
    "recall = recall_score(y_pred=y_pred_test,y_true=y_test)\n",
    "f1score = f1_score(y_true=y_test, y_pred=y_pred_test)\n",
    "\n",
    "# Print the tuned parameters and score\n",
    "print('Tuned Random Forest with Roandom Undersampling Parameters: {}'.format(clf.best_params_))\n",
    "print('Best score is {0:.4f}'.format(clf.best_score_))\n",
    "print('AUC Score: {0:.4f}'.format(roc_auc))\n",
    "print('Accuracy Score: {0:.4f}'.format(accuracy))\n",
    "print('Precision Score: {0:.4f}'.format(precision))\n",
    "print('Recall Score: {0:.4f}'.format(recall))\n",
    "print('f1 score: {0:.4f}'.format(f1score))"
   ]
  },
  {
   "cell_type": "code",
   "execution_count": 39,
   "metadata": {},
   "outputs": [],
   "source": [
    "# This function will predict using a new dataframe \n",
    "def predict_retention(data):\n",
    "    return clf.predict(data)"
   ]
  },
  {
   "cell_type": "code",
   "execution_count": 40,
   "metadata": {},
   "outputs": [
    {
     "data": {
      "text/plain": [
       "13751    True\n",
       "43639    True\n",
       "42185    True\n",
       "20059    True\n",
       "7536     True\n",
       "Name: retention, dtype: bool"
      ]
     },
     "execution_count": 40,
     "metadata": {},
     "output_type": "execute_result"
    }
   ],
   "source": [
    "# call the function to find out if the model has predicted accurately\n",
    "# I am using the top five data from the testing set\n",
    "# I am comparing the prediction with its test labels\n",
    "predict_retention(X_test.head()) == y_test.head()"
   ]
  },
  {
   "cell_type": "code",
   "execution_count": 41,
   "metadata": {},
   "outputs": [
    {
     "data": {
      "text/plain": [
       "4146     True\n",
       "34804    True\n",
       "19180    True\n",
       "42437    True\n",
       "40134    True\n",
       "Name: retention, dtype: bool"
      ]
     },
     "execution_count": 41,
     "metadata": {},
     "output_type": "execute_result"
    }
   ],
   "source": [
    "# call the function to find out if the model has predicted accurately\n",
    "# I am using the bottom five data from the testing set\n",
    "# I am comparing the prediction with its test labels\n",
    "predict_retention(X_test.tail()) == y_test.tail()"
   ]
  },
  {
   "cell_type": "markdown",
   "metadata": {},
   "source": [
    "First, I dealt with class imbalance because the dataset has more data for retention than non-retention rider. I used Random Undersampling technique to deal with class imbalance. There are many other methods like over sampling, SMOTE, ENN, etc. Then, I build a Logistic Regression Classifier model to predict rider retention to find the performance of the model with the data. The model performance was very good. Then, I used Random Forest Classifier to compare with Logistic Regression model because it is an ensembler machine learning model which consists of multiple decision trees in one model. We can also use Decision Tree and Support Vector Machine for this kind of classification project.\n",
    "\n",
    "I have used model AUC score, Accuracy score, Precision score, Recall score and f1_score to validate my model's performance. \n",
    "\n",
    "Ultimate can use this model to predict rider retention based on the past data. The accuracy of the model is perfect according to different metrics used. The class imbalance can be dealt with more data collection in future."
   ]
  }
 ],
 "metadata": {
  "kernelspec": {
   "display_name": "Python 3",
   "language": "python",
   "name": "python3"
  },
  "language_info": {
   "codemirror_mode": {
    "name": "ipython",
    "version": 3
   },
   "file_extension": ".py",
   "mimetype": "text/x-python",
   "name": "python",
   "nbconvert_exporter": "python",
   "pygments_lexer": "ipython3",
   "version": "3.6.7"
  }
 },
 "nbformat": 4,
 "nbformat_minor": 2
}
