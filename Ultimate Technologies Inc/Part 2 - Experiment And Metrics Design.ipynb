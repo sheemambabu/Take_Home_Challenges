{
 "cells": [
  {
   "cell_type": "markdown",
   "metadata": {},
   "source": [
    "## Part 2 - Experiment and metrics design\n",
    "\n",
    "The neighboring cities of Gotham and Metropolis have complementary circadian rhythms: on weekdays, Ultimate Gotham is most active at night, and Ultimate Metropolis is most active during the day. On weekends, there is reasonable activity in both cities.\n",
    "\n",
    "However, a toll bridge, with a two-way toll, between the two cities causes driver partners to tend to be exclusive to each city. The Ultimate managers of city operations for the two cities have proposed an experiment to encourage driver partners to be available in both cities, by reimbursing all toll costs."
   ]
  },
  {
   "cell_type": "markdown",
   "metadata": {},
   "source": [
    "#### 1: What would you choose as the key measure of success of this experiment in encouraging driver partners to serve both cities, and why would you choose this metrics?\n",
    "\n",
    "To measure the success of the experiment, I would track the toll driver patterns on both sides and compare the amounts being collected by the tolls on both directions to the amounts being reimbursed for tolls to driver partners. The higher percentage of the reimbursement of the total cost would mean the more driver partners that are available in both cities, meaning the experiment is more successful.\n",
    "\n",
    "#### 2: Describe a practical experiment you would design to compare the effectiveness of  the proposed change in relation to the key measure of  success. Please provide details on: \n",
    "\n",
    "#### a. How you will implement the experiment ?\n",
    "\n",
    "To implement this experiment, we start by collecting data for the amount reimbursed in toll costs, and include the driver patterns, the direction they were going, date, time, and toll cost charged. Next, I will analyze the data to find trends in regards to the number of tolls being paid and the percentage of the total tolls being reimbursed over time.\n",
    "\n",
    "#### b. What statistical test(s) you will conduct to verify the significance of  the observation ?\n",
    "\n",
    "The statistical test that will be used is the one sample T-test.\n",
    "\n",
    "#### c. How you would interpret the results and provide recommendations to the city operations team along with any caveats ?\n",
    "\n",
    "I will create visualizations to display and interpret trends for days, times, direction, and percentage. I will then make recommendations from the visualizations and conclusions from the statistical analysis."
   ]
  }
 ],
 "metadata": {
  "kernelspec": {
   "display_name": "Python 3",
   "language": "python",
   "name": "python3"
  },
  "language_info": {
   "codemirror_mode": {
    "name": "ipython",
    "version": 3
   },
   "file_extension": ".py",
   "mimetype": "text/x-python",
   "name": "python",
   "nbconvert_exporter": "python",
   "pygments_lexer": "ipython3",
   "version": "3.6.7"
  }
 },
 "nbformat": 4,
 "nbformat_minor": 2
}
